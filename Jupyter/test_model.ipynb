{
 "cells": [
  {
   "cell_type": "code",
   "execution_count": 1,
   "id": "73cc0d0b",
   "metadata": {},
   "outputs": [
    {
     "name": "stdout",
     "output_type": "stream",
     "text": [
      "WARNING:tensorflow:From C:\\Users\\zenpa\\AppData\\Local\\Programs\\Python\\Python311\\Lib\\site-packages\\keras\\src\\losses.py:2976: The name tf.losses.sparse_softmax_cross_entropy is deprecated. Please use tf.compat.v1.losses.sparse_softmax_cross_entropy instead.\n",
      "\n"
     ]
    }
   ],
   "source": [
    "from deepface import DeepFace\n",
    "import numpy as np\n",
    "import time\n"
   ]
  },
  {
   "cell_type": "code",
   "execution_count": null,
   "id": "c16bd207",
   "metadata": {},
   "outputs": [],
   "source": []
  },
  {
   "cell_type": "code",
   "execution_count": 2,
   "id": "feda5495",
   "metadata": {},
   "outputs": [],
   "source": [
    "metrics = [\n",
    "    \"cosine\",# *************\n",
    "    \"euclidean\",\n",
    "    \"euclidean_l2\"\n",
    "]\n",
    "backends = [\n",
    "  'opencv', \n",
    "  'ssd', \n",
    "  # 'dlib', \n",
    "  'mtcnn', \n",
    "  'retinaface', \n",
    "  # 'mediapipe',\n",
    "  # 'yolov8',\n",
    "  'yunet',# *************\n",
    "  # 'fastmtcnn',\n",
    "]\n",
    "models = [\n",
    "  \"VGG-Face\", \n",
    "  \"Facenet\", \n",
    "  \"Facenet512\", \n",
    "  \"OpenFace\", \n",
    "  \"DeepFace\", \n",
    "  \"DeepID\", # *************\n",
    "  \"ArcFace\", \n",
    "  # \"Dlib\", \n",
    "  \"SFace\",\n",
    "]"
   ]
  },
  {
   "cell_type": "code",
   "execution_count": 7,
   "id": "318b3a41",
   "metadata": {},
   "outputs": [
    {
     "name": "stdout",
     "output_type": "stream",
     "text": [
      "The fastest metric is cosine with an execution time of 0.48110508918762207 seconds.\n"
     ]
    }
   ],
   "source": [
    "img1_path = 'f1.jpg'\n",
    "img2_path = 'f2.jpg'\n",
    "\n",
    "# Initialize variables to store execution times\n",
    "execution_times = {}\n",
    "\n",
    "for metric in metrics:\n",
    "    start_time = time.time()\n",
    "    \n",
    "    result = DeepFace.verify(\n",
    "        img1_path=img1_path,\n",
    "        img2_path=img2_path,\n",
    "        model_name=\"Facenet\",\n",
    "        detector_backend=\"yunet\",  # Use the specified backend\n",
    "        distance_metric=metric,\n",
    "        enforce_detection=False\n",
    "    )\n",
    "    \n",
    "    end_time = time.time()\n",
    "    \n",
    "    execution_time = end_time - start_time\n",
    "    execution_times[metric] = execution_time\n",
    "\n",
    "# Find the fastest metric\n",
    "fastest_metric = min(execution_times, key=execution_times.get)\n",
    "\n",
    "print(f\"The fastest metric is {fastest_metric} with an execution time of {execution_times[fastest_metric]} seconds.\")"
   ]
  },
  {
   "cell_type": "code",
   "execution_count": 17,
   "id": "df3e5532",
   "metadata": {},
   "outputs": [
    {
     "name": "stdout",
     "output_type": "stream",
     "text": [
      "1/1 [==============================] - 0s 29ms/step\n",
      "1/1 [==============================] - 0s 19ms/step\n",
      "1/1 [==============================] - 0s 15ms/step\n",
      "1/1 [==============================] - 0s 14ms/step\n",
      "1/1 [==============================] - 0s 13ms/step\n",
      "1/1 [==============================] - 0s 13ms/step\n",
      "1/1 [==============================] - 0s 13ms/step\n",
      "1/1 [==============================] - 0s 14ms/step\n",
      "1/1 [==============================] - 0s 14ms/step\n",
      "1/1 [==============================] - 0s 14ms/step\n",
      "1/1 [==============================] - 0s 13ms/step\n",
      "5/5 [==============================] - 0s 2ms/step\n",
      "1/1 [==============================] - 0s 15ms/step\n",
      "1/1 [==============================] - 0s 25ms/step\n",
      "1/1 [==============================] - 0s 17ms/step\n",
      "1/1 [==============================] - 0s 15ms/step\n",
      "1/1 [==============================] - 0s 17ms/step\n",
      "1/1 [==============================] - 0s 13ms/step\n",
      "1/1 [==============================] - 0s 14ms/step\n",
      "1/1 [==============================] - 0s 13ms/step\n",
      "1/1 [==============================] - 0s 13ms/step\n",
      "1/1 [==============================] - 0s 14ms/step\n",
      "1/1 [==============================] - 0s 14ms/step\n",
      "1/1 [==============================] - 0s 14ms/step\n",
      "3/3 [==============================] - 0s 2ms/step\n",
      "1/1 [==============================] - 0s 15ms/step\n",
      "The fastest model is yunet with an execution time of 0.41800355911254883 seconds.\n"
     ]
    }
   ],
   "source": [
    "execution_times = {}\n",
    "\n",
    "for backend in backends:\n",
    "    start_time = time.time()\n",
    "    \n",
    "    result = DeepFace.verify(\n",
    "        img1_path=img1_path,\n",
    "        img2_path=img2_path,\n",
    "        model_name=\"Facenet\",\n",
    "        detector_backend=backend,\n",
    "        distance_metric=metrics[2],  # Use the specified distance metric\n",
    "        enforce_detection=False\n",
    "    )\n",
    "    \n",
    "    end_time = time.time()\n",
    "    \n",
    "    execution_time = end_time - start_time\n",
    "    execution_times[backend] = execution_time\n",
    "\n",
    "# Find the fastest backend\n",
    "fastest_backend = min(execution_times, key=execution_times.get)\n",
    "\n",
    "print(f\"The fastest model is {fastest_backend} with an execution time of {execution_times[fastest_backend]} seconds.\")"
   ]
  },
  {
   "cell_type": "code",
   "execution_count": 8,
   "id": "8aa1321c",
   "metadata": {},
   "outputs": [
    {
     "name": "stdout",
     "output_type": "stream",
     "text": [
      "{'verified': True, 'distance': 0.47473184414800806, 'threshold': 0.86, 'model': 'VGG-Face', 'detector_backend': 'opencv', 'similarity_metric': 'euclidean_l2', 'facial_areas': {'img1': {'x': 0, 'y': 0, 'w': 1280, 'h': 720}, 'img2': {'x': 0, 'y': 0, 'w': 1280, 'h': 720}}, 'time': 0.48}\n"
     ]
    }
   ],
   "source": [
    "print(result)"
   ]
  },
  {
   "cell_type": "code",
   "execution_count": 13,
   "id": "98349efe",
   "metadata": {},
   "outputs": [
    {
     "name": "stdout",
     "output_type": "stream",
     "text": [
      "The fastest model is DeepID with an execution time of 0.0733330249786377 seconds.\n"
     ]
    }
   ],
   "source": [
    "img1_path = 'f1.jpg'\n",
    "img2_path = 'f2.jpg'\n",
    "\n",
    "# Initialize variables to store execution times\n",
    "execution_times = {}\n",
    "\n",
    "for model in models:\n",
    "    start_time = time.time()\n",
    "    \n",
    "    result = DeepFace.verify(\n",
    "        img1_path=img1_path,\n",
    "        img2_path=img2_path,\n",
    "        model_name=model,\n",
    "        enforce_detection=False\n",
    "    )\n",
    "    \n",
    "    end_time = time.time()\n",
    "    \n",
    "    execution_time = end_time - start_time\n",
    "    execution_times[model] = execution_time\n",
    "\n",
    "# Find the fastest model\n",
    "fastest_model = min(execution_times, key=execution_times.get)\n",
    "\n",
    "print(f\"The fastest model is {fastest_model} with an execution time of {execution_times[fastest_model]} seconds.\")"
   ]
  },
  {
   "cell_type": "code",
   "execution_count": 22,
   "id": "e9fd3639",
   "metadata": {},
   "outputs": [],
   "source": [
    "result = DeepFace.verify(\n",
    "        img1_path=img1_path,\n",
    "        img2_path=img2_path,\n",
    "        model_name=\"SFace\",\n",
    "        detector_backend='yunet',\n",
    "        distance_metric='euclidean_l2',  # Use the specified distance metric\n",
    "        enforce_detection=False\n",
    ")\n",
    "#0.07"
   ]
  },
  {
   "cell_type": "code",
   "execution_count": 23,
   "id": "99685623",
   "metadata": {},
   "outputs": [
    {
     "data": {
      "text/plain": [
       "{'verified': True,\n",
       " 'distance': 0.7111137395034753,\n",
       " 'threshold': 1.055,\n",
       " 'model': 'SFace',\n",
       " 'detector_backend': 'yunet',\n",
       " 'similarity_metric': 'euclidean_l2',\n",
       " 'facial_areas': {'img1': {'x': 101, 'y': 0, 'w': 307, 'h': 509},\n",
       "  'img2': {'x': 104, 'y': 33, 'w': 289, 'h': 434}},\n",
       " 'time': 0.06}"
      ]
     },
     "execution_count": 23,
     "metadata": {},
     "output_type": "execute_result"
    }
   ],
   "source": [
    "result"
   ]
  },
  {
   "cell_type": "code",
   "execution_count": 4,
   "id": "245b877f",
   "metadata": {},
   "outputs": [
    {
     "name": "stdout",
     "output_type": "stream",
     "text": [
      "1/1 [==============================] - 0s 23ms/step\n",
      "1/1 [==============================] - 0s 17ms/step\n",
      "1/1 [==============================] - 0s 17ms/step\n",
      "1/1 [==============================] - 0s 13ms/step\n",
      "1/1 [==============================] - 0s 15ms/step\n",
      "1/1 [==============================] - 0s 13ms/step\n",
      "1/1 [==============================] - 0s 13ms/step\n",
      "1/1 [==============================] - 0s 13ms/step\n",
      "1/1 [==============================] - 0s 13ms/step\n",
      "1/1 [==============================] - 0s 13ms/step\n",
      "1/1 [==============================] - 0s 12ms/step\n",
      "5/5 [==============================] - 0s 2ms/step\n",
      "1/1 [==============================] - 0s 15ms/step\n",
      "The fastest backend is ssd with an execution time of 0.05106163024902344 seconds.\n"
     ]
    }
   ],
   "source": [
    "img_path = 'f1.jpg'\n",
    "\n",
    "# Initialize variables to store execution times\n",
    "execution_times = {}\n",
    "\n",
    "for backend in backends:\n",
    "    start_time = time.time()\n",
    "\n",
    "    face_objs = DeepFace.extract_faces(\n",
    "        img_path=img_path,\n",
    "        target_size=(500, 500),\n",
    "        detector_backend=backend,\n",
    "        enforce_detection=False\n",
    "    )\n",
    "\n",
    "    end_time = time.time()\n",
    "\n",
    "    execution_time = end_time - start_time\n",
    "    execution_times[backend] = execution_time\n",
    "\n",
    "# Find the fastest backend\n",
    "fastest_backend = min(execution_times, key=execution_times.get)\n",
    "\n",
    "print(f\"The fastest backend is {fastest_backend} with an execution time of {execution_times[fastest_backend]} seconds.\")"
   ]
  },
  {
   "cell_type": "code",
   "execution_count": 28,
   "id": "8eabb4ac-8890-4e6e-9422-d42b1c8edf51",
   "metadata": {},
   "outputs": [
    {
     "name": "stdout",
     "output_type": "stream",
     "text": [
      "0.061515092849731445\n"
     ]
    }
   ],
   "source": [
    "execution_times = {}\n",
    "img1_path = 'f1.jpg'\n",
    "img2_path = 'f2.jpg'\n",
    "start_time = time.time()\n",
    "result = DeepFace.verify(\n",
    "                    img1_path=img1_path,  # Use the image data for the first face\n",
    "                    img2_path=img2_path,  # Use the image data for the second face\n",
    "                    model_name=\"SFace\",\n",
    "                    detector_backend='yunet',\n",
    "                    distance_metric='euclidean_l2',\n",
    "                    enforce_detection=False\n",
    "                )\n",
    "end_time = time.time()\n",
    "    \n",
    "execution_time = end_time - start_time\n",
    "print(execution_time)"
   ]
  },
  {
   "cell_type": "code",
   "execution_count": 29,
   "id": "603b06f7-fa67-4cc0-804a-4f81eabd133b",
   "metadata": {},
   "outputs": [
    {
     "data": {
      "text/plain": [
       "{'verified': True,\n",
       " 'distance': 0.7655026360043484,\n",
       " 'threshold': 1.055,\n",
       " 'model': 'SFace',\n",
       " 'detector_backend': 'yunet',\n",
       " 'similarity_metric': 'euclidean_l2',\n",
       " 'facial_areas': {'img1': {'x': 314, 'y': 222, 'w': 352, 'h': 436},\n",
       "  'img2': {'x': 416, 'y': 216, 'w': 220, 'h': 280}},\n",
       " 'time': 0.06}"
      ]
     },
     "execution_count": 29,
     "metadata": {},
     "output_type": "execute_result"
    }
   ],
   "source": [
    "result"
   ]
  },
  {
   "cell_type": "code",
   "execution_count": null,
   "id": "b483a262-01b7-44a2-a0a0-9236ee19bc80",
   "metadata": {},
   "outputs": [],
   "source": []
  }
 ],
 "metadata": {
  "kernelspec": {
   "display_name": "Python 3 (ipykernel)",
   "language": "python",
   "name": "python3"
  },
  "language_info": {
   "codemirror_mode": {
    "name": "ipython",
    "version": 3
   },
   "file_extension": ".py",
   "mimetype": "text/x-python",
   "name": "python",
   "nbconvert_exporter": "python",
   "pygments_lexer": "ipython3",
   "version": "3.11.7"
  }
 },
 "nbformat": 4,
 "nbformat_minor": 5
}
